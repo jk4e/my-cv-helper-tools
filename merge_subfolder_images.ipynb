{
 "cells": [
  {
   "cell_type": "code",
   "execution_count": null,
   "metadata": {},
   "outputs": [],
   "source": [
    "src_folder = r\"XXX\"\n",
    "dest_folder = r\"XXX\\merge\"\n",
    "\n",
    "# don't forget 'r' before path string on windows"
   ]
  },
  {
   "cell_type": "code",
   "execution_count": null,
   "metadata": {},
   "outputs": [],
   "source": [
    "import os\n",
    "import shutil\n",
    "\n",
    "def collect_images(src_folder, dest_folder):\n",
    "    if not os.path.exists(dest_folder):\n",
    "        os.makedirs(dest_folder)\n",
    "\n",
    "    for subdir, _, files in os.walk(src_folder):\n",
    "        for file in files:\n",
    "            if file.lower().endswith(('.png', '.jpg', '.jpeg')):\n",
    "                src_file_path = os.path.join(subdir, file)\n",
    "                dest_file_path = os.path.join(dest_folder, file)\n",
    "\n",
    "                # To avoid overwriting files with the same name, append a number if needed\n",
    "                base, extension = os.path.splitext(file)\n",
    "                counter = 1\n",
    "                while os.path.exists(dest_file_path):\n",
    "                    dest_file_path = os.path.join(dest_folder, f\"{base}_{counter}{extension}\")\n",
    "                    counter += 1\n",
    "\n",
    "                shutil.copy2(src_file_path, dest_file_path)\n",
    "                print(f'Copied {src_file_path} to {dest_file_path}')\n",
    "\n",
    "if __name__ == \"__main__\":\n",
    "    collect_images(src_folder, dest_folder)\n"
   ]
  }
 ],
 "metadata": {
  "kernelspec": {
   "display_name": "project_env",
   "language": "python",
   "name": "python3"
  },
  "language_info": {
   "codemirror_mode": {
    "name": "ipython",
    "version": 3
   },
   "file_extension": ".py",
   "mimetype": "text/x-python",
   "name": "python",
   "nbconvert_exporter": "python",
   "pygments_lexer": "ipython3",
   "version": "3.11.9"
  }
 },
 "nbformat": 4,
 "nbformat_minor": 2
}
