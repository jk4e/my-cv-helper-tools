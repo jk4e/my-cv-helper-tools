{
 "cells": [
  {
   "cell_type": "code",
   "execution_count": null,
   "metadata": {},
   "outputs": [],
   "source": [
    "# Define source and target folders and target resolution\n",
    "source_folder = r\"XXX\"\n",
    "target_folder = r\"XXX\\output\"\n",
    "target_resolution = (320, 240)  # Typical resolutions: 800 x 600, 640 x 480, 320 x 240, 160 x 120\n",
    "\n",
    "# don't forget 'r' before path string on windows"
   ]
  },
  {
   "cell_type": "code",
   "execution_count": null,
   "metadata": {},
   "outputs": [],
   "source": [
    "import os\n",
    "from PIL import Image\n",
    "\n",
    "def resize_images(source_folder, target_folder, target_resolution):\n",
    "    for root, dirs, files in os.walk(source_folder):\n",
    "        for file in files:\n",
    "            if file.lower().endswith(('.png', '.jpg', '.jpeg')):\n",
    "                source_file_path = os.path.join(root, file)\n",
    "                relative_path = os.path.relpath(root, source_folder)\n",
    "                target_directory = os.path.join(target_folder, relative_path)\n",
    "                os.makedirs(target_directory, exist_ok=True)\n",
    "                target_file_path = os.path.join(target_directory, file)\n",
    "                \n",
    "                with Image.open(source_file_path) as img:\n",
    "                    img = img.resize(target_resolution)\n",
    "                    img.save(target_file_path)\n",
    "                print(f\"Resized and saved {source_file_path} to {target_file_path}\")\n",
    "\n",
    "# Run the resize function\n",
    "resize_images(source_folder, target_folder, target_resolution)"
   ]
  }
 ],
 "metadata": {
  "kernelspec": {
   "display_name": "project_env",
   "language": "python",
   "name": "python3"
  },
  "language_info": {
   "codemirror_mode": {
    "name": "ipython",
    "version": 3
   },
   "file_extension": ".py",
   "mimetype": "text/x-python",
   "name": "python",
   "nbconvert_exporter": "python",
   "pygments_lexer": "ipython3",
   "version": "3.11.9"
  }
 },
 "nbformat": 4,
 "nbformat_minor": 2
}
