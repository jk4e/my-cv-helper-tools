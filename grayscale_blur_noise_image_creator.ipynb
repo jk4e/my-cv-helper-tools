{
 "cells": [
  {
   "cell_type": "code",
   "execution_count": null,
   "metadata": {},
   "outputs": [],
   "source": [
    "# Settings for the image processing\n",
    "\n",
    "img_path = \"test/01_image_15.png\"  # path to the image to be processed\n",
    "blur_factor = 0.9  # range 0.0 to 1.0\n",
    "noise_factor = 0.99  # range 0.0 to 1.0"
   ]
  },
  {
   "cell_type": "code",
   "execution_count": 25,
   "metadata": {},
   "outputs": [],
   "source": [
    "from PIL import Image, ImageFilter\n",
    "import numpy as np\n",
    "\n",
    "def apply_blur_and_noise(image, blur_factor=0, noise_factor=0):\n",
    "    \"\"\"\n",
    "    Apply blur and grayscale noise to an image.\n",
    "\n",
    "    Args:\n",
    "        image: The input image as a Pillow Image object.\n",
    "        blur_factor (float): The amount of blur to apply (0 to 1).\n",
    "        noise_factor (float): The amount of grayscale noise to add (0 to 1).\n",
    "\n",
    "    Returns:\n",
    "        Image: The processed image with blur and grayscale noise.\n",
    "    \"\"\"\n",
    "    \n",
    "    # Ensure the blur and noise factors are in the range [0, 1]\n",
    "    blur_factor = max(0, min(1, blur_factor))\n",
    "    noise_factor = max(0, min(1, noise_factor))\n",
    "    \n",
    "    # Apply Gaussian blur\n",
    "    max_blur_radius = 10  # Define a maximum blur radius\n",
    "    blur_radius = blur_factor * max_blur_radius\n",
    "    blurred_image = image.filter(ImageFilter.GaussianBlur(blur_radius))\n",
    "    \n",
    "    # Convert image to numpy array for noise application\n",
    "    img_array = np.array(blurred_image)\n",
    "    \n",
    "    # Add grayscale noise to the image\n",
    "    if noise_factor > 0:\n",
    "        mean = 0\n",
    "        sigma = 100 * noise_factor  # Scale the noise strength by noise_factor\n",
    "        \n",
    "        # Generate grayscale noise and replicate across RGB channels\n",
    "        grayscale_noise = np.random.normal(mean, sigma, img_array.shape[:2]).astype(np.int16)\n",
    "        \n",
    "        # Expand grayscale noise to 3 channels (R, G, B)\n",
    "        grayscale_noise_rgb = np.stack([grayscale_noise] * 3, axis=-1)\n",
    "        \n",
    "        # Add noise and clip values to valid range [0, 255]\n",
    "        noisy_img_array = np.clip(img_array + grayscale_noise_rgb, 0, 255).astype(np.uint8)\n",
    "    else:\n",
    "        noisy_img_array = img_array\n",
    "    \n",
    "    # Convert back to Pillow Image\n",
    "    noisy_image = Image.fromarray(noisy_img_array)\n",
    "    \n",
    "    return noisy_image\n",
    "\n",
    "\n",
    "# Load the image\n",
    "input_image = Image.open(img_path)\n",
    "\n",
    "# Apply blur and noise\n",
    "output_image = apply_blur_and_noise(input_image, blur_factor=blur_factor, noise_factor=noise_factor)\n",
    "\n",
    "# Save or show the result\n",
    "output_image.save('output.png')\n",
    "output_image.show()  # To display the result\n"
   ]
  }
 ],
 "metadata": {
  "kernelspec": {
   "display_name": "yolo_test_env",
   "language": "python",
   "name": "python3"
  },
  "language_info": {
   "codemirror_mode": {
    "name": "ipython",
    "version": 3
   },
   "file_extension": ".py",
   "mimetype": "text/x-python",
   "name": "python",
   "nbconvert_exporter": "python",
   "pygments_lexer": "ipython3",
   "version": "3.11.9"
  }
 },
 "nbformat": 4,
 "nbformat_minor": 2
}
