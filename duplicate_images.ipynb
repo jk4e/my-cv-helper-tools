{
 "cells": [
  {
   "cell_type": "code",
   "execution_count": null,
   "metadata": {},
   "outputs": [],
   "source": [
    "# Define the source folder\n",
    "source_folder = r\"XXX\"\n",
    "number_of_duplications = 9  # hint: 9 will results in a total of 10 instances of a image\n",
    "\n",
    "# don't forget 'r' before path string on windows"
   ]
  },
  {
   "cell_type": "code",
   "execution_count": null,
   "metadata": {},
   "outputs": [],
   "source": [
    "import os\n",
    "from PIL import Image\n",
    "\n",
    "def duplicate_images(source_folder, num_duplicates=number_of_duplications):\n",
    "    for root, dirs, files in os.walk(source_folder):\n",
    "        for file in files:\n",
    "            if file.lower().endswith(('.png', '.jpg', '.jpeg')):\n",
    "                source_file_path = os.path.join(root, file)\n",
    "                file_name, file_extension = os.path.splitext(file)\n",
    "                \n",
    "                with Image.open(source_file_path) as img:\n",
    "                    for i in range(1, num_duplicates + 1):\n",
    "                        new_file_name = f\"{file_name}_copy{i}{file_extension}\"\n",
    "                        new_file_path = os.path.join(root, new_file_name)\n",
    "                        img.save(new_file_path)\n",
    "                        print(f\"Duplicated {source_file_path} as {new_file_path}\")\n",
    "\n",
    "# Run the duplicate function\n",
    "duplicate_images(source_folder)\n"
   ]
  }
 ],
 "metadata": {
  "kernelspec": {
   "display_name": "project_env",
   "language": "python",
   "name": "python3"
  },
  "language_info": {
   "codemirror_mode": {
    "name": "ipython",
    "version": 3
   },
   "file_extension": ".py",
   "mimetype": "text/x-python",
   "name": "python",
   "nbconvert_exporter": "python",
   "pygments_lexer": "ipython3",
   "version": "3.11.9"
  }
 },
 "nbformat": 4,
 "nbformat_minor": 2
}
